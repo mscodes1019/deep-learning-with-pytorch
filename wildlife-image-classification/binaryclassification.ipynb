{
 "cells": [
  {
   "cell_type": "code",
   "execution_count": 1,
   "id": "9763d715-563b-444e-9ee7-008599713d9a",
   "metadata": {},
   "outputs": [
    {
     "name": "stdout",
     "output_type": "stream",
     "text": [
      "Current working directory: C:\\Users\\MonsuratAyinde\\Desktop\\data_multiclass\n"
     ]
    }
   ],
   "source": [
    "import os\n",
    "\n",
    " # Set the working directory to Desktop\n",
    "os.chdir(r\"C:\\Users\\MonsuratAyinde\\Desktop\\data_multiclass\")\n",
    "\n",
    "# Confirm the change\n",
    "print(\"Current working directory:\", os.getcwd())\n"
   ]
  },
  {
   "cell_type": "code",
   "execution_count": 2,
   "id": "7ac1eae6-38ae-46e8-a6d1-30a301be5ed1",
   "metadata": {},
   "outputs": [],
   "source": [
    "import os\n",
    "import sys\n",
    "from collections import Counter\n",
    "\n",
    "import cv2\n",
    "import matplotlib\n",
    "import matplotlib.pyplot as plt\n",
    "import numpy as np\n",
    "import pandas as pd\n",
    "import PIL\n",
    "import sklearn\n",
    "import torch\n",
    "import torch.nn as nn\n",
    "import torch.nn.functional as F\n",
    "import torch.optim as optim\n",
    "import torchinfo\n",
    "import torchvision\n",
    "from PIL import Image\n",
    "from sklearn.metrics import ConfusionMatrixDisplay, confusion_matrix\n",
    "from torch.utils.data import DataLoader, random_split\n",
    "from torchinfo import summary\n",
    "from torchvision import datasets, transforms\n",
    "from tqdm.notebook import tqdm\n",
    "from tqdm.version import __version__ as tqdm__version__\n",
    "\n",
    "torch.backends.cudnn.deterministic = True"
   ]
  },
  {
   "cell_type": "markdown",
   "id": "59869ed3-304b-48ae-9842-d35629e653e8",
   "metadata": {},
   "source": [
    "we'll print out the version numbers for our libraries, including Python. We want to make sure that anyone who reviews our work knows exactly what software we used in case they want to reproduce our analysis."
   ]
  },
  {
   "cell_type": "code",
   "execution_count": 3,
   "id": "454429e7-9714-4569-9b74-11714c7c1354",
   "metadata": {},
   "outputs": [
    {
     "name": "stdout",
     "output_type": "stream",
     "text": [
      "Platform: win32\n",
      "Python version: 3.13.2 | packaged by Anaconda, Inc. | (main, Feb  6 2025, 18:49:14) [MSC v.1929 64 bit (AMD64)]\n",
      "---\n",
      "CV2 version :  4.11.0\n",
      "matplotlib version :  3.10.0\n",
      "numpy version :  2.2.4\n",
      "torch version :  2.7.0+cpu\n",
      "torchinfo version :  1.8.0\n",
      "torchvision version :  0.22.0+cpu\n",
      "PIL version :  11.1.0\n",
      "scikit-learn version:  1.6.1\n",
      "tqdm version:  4.67.1\n"
     ]
    }
   ],
   "source": [
    "print(\"Platform:\", sys.platform)\n",
    "print(\"Python version:\", sys.version)\n",
    "print(\"---\")\n",
    "print(\"CV2 version : \", cv2.__version__)\n",
    "print(\"matplotlib version : \", matplotlib.__version__)\n",
    "print(\"numpy version : \", np.__version__)\n",
    "print(\"torch version : \", torch.__version__)\n",
    "print(\"torchinfo version : \", torchinfo.__version__)\n",
    "print(\"torchvision version : \", torchvision.__version__)\n",
    "print(\"PIL version : \", PIL.__version__)\n",
    "print(\"scikit-learn version: \", sklearn.__version__)\n",
    "print(\"tqdm version: \", tqdm__version__)"
   ]
  },
  {
   "cell_type": "code",
   "execution_count": 4,
   "id": "4fd00a39-af13-4386-b805-c9c55d861aab",
   "metadata": {},
   "outputs": [
    {
     "name": "stdout",
     "output_type": "stream",
     "text": [
      "Using cpu device.\n"
     ]
    }
   ],
   "source": [
    "if torch.cuda.is_available():\n",
    "    device = \"cuda\"\n",
    "elif torch.backends.mps.is_available():\n",
    "    device = \"mps\"\n",
    "else:\n",
    "    device = \"cpu\"\n",
    "\n",
    "print(f\"Using {device} device.\")"
   ]
  },
  {
   "cell_type": "code",
   "execution_count": 5,
   "id": "0fbf41e1-60fa-4893-8f2e-05dfbaa21d19",
   "metadata": {},
   "outputs": [
    {
     "name": "stdout",
     "output_type": "stream",
     "text": [
      "Data Directory: data_binary\n",
      "Training Data Directory: data_binary\\train\n"
     ]
    }
   ],
   "source": [
    "data_dir = os.path.join(\"data_binary\")\n",
    "train_dir = os.path.join(data_dir, \"train\")\n",
    "\n",
    "print(\"Data Directory:\", data_dir)\n",
    "print(\"Training Data Directory:\", train_dir)"
   ]
  },
  {
   "cell_type": "markdown",
   "id": "a67b7d83-7de5-42e6-828e-ad77de9062c6",
   "metadata": {},
   "source": [
    "Since we're doing binary classification, we'll have two different labels. The data for each label is separated into their own folder. The name of the folder corresponds to the name of the label."
   ]
  },
  {
   "cell_type": "code",
   "execution_count": 6,
   "id": "6fd874f4-cacf-4d36-b23d-c0d2c6a546de",
   "metadata": {},
   "outputs": [],
   "source": [
    " # import os\n",
    " # print(\"Current working directory:\", os.getcwd())\n"
   ]
  },
  {
   "cell_type": "code",
   "execution_count": 7,
   "id": "62f284bd-81c4-453b-8a36-8a1a8ba2928b",
   "metadata": {},
   "outputs": [
    {
     "data": {
      "text/plain": [
       "['blank', 'hog']"
      ]
     },
     "execution_count": 7,
     "metadata": {},
     "output_type": "execute_result"
    }
   ],
   "source": [
    "labels = os.listdir(train_dir)\n",
    "labels"
   ]
  },
  {
   "cell_type": "markdown",
   "id": "9c0c56e5-f988-40d3-87f6-b28ac0fd0132",
   "metadata": {},
   "source": [
    "# count blank images"
   ]
  },
  {
   "cell_type": "code",
   "execution_count": 8,
   "id": "a51a9654-c27c-4998-854a-732853450790",
   "metadata": {},
   "outputs": [
    {
     "name": "stdout",
     "output_type": "stream",
     "text": [
      "leghth of hog images:  978\n",
      "length of blank images:  2213\n"
     ]
    }
   ],
   "source": [
    "hog_path = os.path.join(train_dir,\"hog\")\n",
    "hog_images = os.listdir(hog_path)\n",
    "print(\"leghth of hog images: \", len(hog_images))\n",
    "blank_path = os.path.join(train_dir, \"blank\")\n",
    "blank_images = os.listdir(blank_path)\n",
    "print(\"length of blank images: \", len(blank_images))"
   ]
  },
  {
   "cell_type": "markdown",
   "id": "f7c87543-eb7e-46f7-a6df-07d1df8a955b",
   "metadata": {},
   "source": [
    "# Image path display"
   ]
  },
  {
   "cell_type": "markdown",
   "id": "d94c117d-b1f1-4acb-80f9-c56760bce2a7",
   "metadata": {},
   "source": [
    "Display the path of one image of the blank class."
   ]
  },
  {
   "cell_type": "code",
   "execution_count": 9,
   "id": "90e0a1cd-b7bb-4b25-a39e-8f5868a8388a",
   "metadata": {},
   "outputs": [
    {
     "name": "stdout",
     "output_type": "stream",
     "text": [
      "ZJ000005.jpg\n",
      "data_binary\\train\\hog\\ZJ000005.jpg\n",
      "ZJ000013.jpg\n",
      "data_binary\\train\\blank\\ZJ000013.jpg\n"
     ]
    }
   ],
   "source": [
    "hog_image_name = hog_images[0]\n",
    "print(hog_image_name)\n",
    "\n",
    "hog_image_path = os.path.join(hog_path, hog_image_name)\n",
    "print(hog_image_path)\n",
    "\n",
    "blank_image_name = blank_images[0]\n",
    "print(blank_image_name)\n",
    "\n",
    "blank_image_path = os.path.join(blank_path, blank_image_name)\n",
    "print(blank_image_path)"
   ]
  },
  {
   "cell_type": "markdown",
   "id": "d197db09-e014-4a87-a19a-4bbc92f41e9b",
   "metadata": {},
   "source": [
    "# print out the mode and size for the blank image sample"
   ]
  },
  {
   "cell_type": "code",
   "execution_count": 10,
   "id": "bc879f36-57c2-4667-b82a-865b168ca64a",
   "metadata": {},
   "outputs": [
    {
     "name": "stdout",
     "output_type": "stream",
     "text": [
      "Hog image:  RGB (960, 540)\n",
      "Blank image:  RGB (960, 540)\n"
     ]
    }
   ],
   "source": [
    "hog_img_pil = Image.open(hog_image_path)\n",
    "print(\"Hog image: \", hog_img_pil.mode, hog_img_pil.size)\n",
    "\n",
    "blank_img_pil = Image.open(blank_image_path)\n",
    "print(\"Blank image: \", blank_img_pil.mode, blank_img_pil.size)"
   ]
  },
  {
   "cell_type": "code",
   "execution_count": 11,
   "id": "f83eda5d-d8de-406d-aa8a-5a6acb2c344e",
   "metadata": {},
   "outputs": [
    {
     "name": "stdout",
     "output_type": "stream",
     "text": [
      "(22, 22, 22)\n"
     ]
    }
   ],
   "source": [
    "pixels = hog_img_pil.load()\n",
    "print(pixels[0, 0])  # Sample pixel value at top-left\n"
   ]
  },
  {
   "cell_type": "code",
   "execution_count": 12,
   "id": "b7608eb2-05d2-4339-b114-85eeae0be7f3",
   "metadata": {},
   "outputs": [],
   "source": [
    "hog_img_gray = hog_img_pil.convert(\"L\")\n",
    "hog_img_gray.show()\n"
   ]
  },
  {
   "cell_type": "markdown",
   "id": "b720ef47-18e1-4853-ab9f-96efa61d9582",
   "metadata": {},
   "source": [
    "# Prepare the Data"
   ]
  },
  {
   "cell_type": "code",
   "execution_count": 13,
   "id": "f68d3350-a164-44a5-b5c5-b39944b28086",
   "metadata": {},
   "outputs": [],
   "source": [
    "class ConvertToRGB:\n",
    "    def __call__(self, img):\n",
    "        if img.mode != \"RGB\":\n",
    "            img = img.convert(\"RGB\")\n",
    "        return img"
   ]
  },
  {
   "cell_type": "code",
   "execution_count": 14,
   "id": "88fb481d-3c8e-4188-93e6-5e510ba3829d",
   "metadata": {},
   "outputs": [
    {
     "name": "stdout",
     "output_type": "stream",
     "text": [
      "<class 'torchvision.transforms.transforms.Compose'>\n",
      "Compose(\n",
      "    <__main__.ConvertToRGB object at 0x0000020FEA9BF4D0>\n",
      "    Resize(size=(224, 224), interpolation=bilinear, max_size=None, antialias=True)\n",
      "    ToTensor()\n",
      ")\n"
     ]
    }
   ],
   "source": [
    "# Define transformation to apply to the images\n",
    "transform = transforms.Compose(\n",
    "    [\n",
    "        ConvertToRGB(),  # Convert images to RGB format if not already\n",
    "        transforms.Resize((224, 224)),  # Resize images to 224x224\n",
    "        # Convert images to tensors\n",
    "        transforms.ToTensor()\n",
    "\n",
    "    ]\n",
    ")\n",
    "\n",
    "print(type(transform))\n",
    "print(transform)"
   ]
  },
  {
   "cell_type": "code",
   "execution_count": 15,
   "id": "36fccf7e-6f77-4bc1-8b07-2135b799eb7b",
   "metadata": {},
   "outputs": [
    {
     "name": "stdout",
     "output_type": "stream",
     "text": [
      "Dataset ImageFolder\n",
      "    Number of datapoints: 3191\n",
      "    Root location: data_binary\\train\n",
      "    StandardTransform\n",
      "Transform: Compose(\n",
      "               <__main__.ConvertToRGB object at 0x0000020FEA9BF4D0>\n",
      "               Resize(size=(224, 224), interpolation=bilinear, max_size=None, antialias=True)\n",
      "               ToTensor()\n",
      "           )\n"
     ]
    }
   ],
   "source": [
    "# Load the dataset using `ImageFolder`\n",
    "dataset = datasets.ImageFolder(root=train_dir, transform=transform)\n",
    "print(dataset)"
   ]
  },
  {
   "cell_type": "code",
   "execution_count": 16,
   "id": "889a6fd7-b339-4328-9d8f-3d3cbe179faf",
   "metadata": {},
   "outputs": [
    {
     "data": {
      "text/plain": [
       "['blank', 'hog']"
      ]
     },
     "execution_count": 16,
     "metadata": {},
     "output_type": "execute_result"
    }
   ],
   "source": [
    "dataset.classes"
   ]
  },
  {
   "cell_type": "code",
   "execution_count": 17,
   "id": "e7956a14-35bf-467b-826b-5278e3723ea1",
   "metadata": {},
   "outputs": [
    {
     "name": "stdout",
     "output_type": "stream",
     "text": [
      "('data_binary\\\\train\\\\blank\\\\ZJ000013.jpg', 0)\n",
      "{0, 1}\n"
     ]
    }
   ],
   "source": [
    "im = dataset.imgs\n",
    "print(im[0])\n",
    "\n",
    "distinct_classes = {x[1] for x in im}\n",
    "print(distinct_classes)"
   ]
  },
  {
   "cell_type": "code",
   "execution_count": 18,
   "id": "4ecc3a34-07cf-4ea8-aeee-b01ae07fefdd",
   "metadata": {},
   "outputs": [],
   "source": [
    "# Important, don't change this!\n",
    "g = torch.Generator()\n",
    "g.manual_seed(42)\n",
    "\n",
    "train_dataset, val_dataset = random_split(dataset, [0.8, 0.2], generator=g)"
   ]
  },
  {
   "cell_type": "markdown",
   "id": "6d259ffa-7b88-4b0c-b724-0860b25aec59",
   "metadata": {},
   "source": [
    "# Print out the length of the validation dataset and the training dataset"
   ]
  },
  {
   "cell_type": "code",
   "execution_count": 19,
   "id": "ea4823d3-618f-40f0-a89a-74cd2c355c8e",
   "metadata": {},
   "outputs": [
    {
     "name": "stdout",
     "output_type": "stream",
     "text": [
      "Length of training set: 2553\n",
      "Length of validation set: 638\n"
     ]
    }
   ],
   "source": [
    "print(f\"Length of training set: {len(train_dataset)}\")\n",
    "print(f\"Length of validation set: {len(val_dataset)}\")\n"
   ]
  },
  {
   "cell_type": "markdown",
   "id": "e7c6f169-9068-48ac-a0d3-90eb68645900",
   "metadata": {},
   "source": [
    "# Validation data plot"
   ]
  },
  {
   "cell_type": "code",
   "execution_count": 20,
   "id": "d4eff5ac-1e73-4f77-8215-c724c5981dae",
   "metadata": {},
   "outputs": [],
   "source": [
    "# !pip install ipywidgets --upgrade\n",
    "# !jupyter nbextension enable --py widgetsnbextension --sys-prefix\n",
    "# !jupyter nbextension install --py widgetsnbextension --sys-prefix\n"
   ]
  },
  {
   "cell_type": "code",
   "execution_count": 21,
   "id": "c283a84b-d058-42ea-bef3-2d88b4fd3de6",
   "metadata": {},
   "outputs": [],
   "source": [
    "def class_counts(dataset):\n",
    "    c = Counter(x[1] for x in tqdm(dataset))\n",
    "    class_to_index = dataset.dataset.class_to_idx\n",
    "    return pd.Series({cat: c[idx] for cat, idx in class_to_index.items()})"
   ]
  },
  {
   "cell_type": "code",
   "execution_count": 22,
   "id": "1c6f7896-e038-423d-b453-4273b82c06b8",
   "metadata": {},
   "outputs": [
    {
     "data": {
      "application/vnd.jupyter.widget-view+json": {
       "model_id": "9bc36df6c77747259c4215086ce6926f",
       "version_major": 2,
       "version_minor": 0
      },
      "text/plain": [
       "  0%|          | 0/2553 [00:00<?, ?it/s]"
      ]
     },
     "metadata": {},
     "output_type": "display_data"
    },
    {
     "data": {
      "text/plain": [
       "blank    1749\n",
       "hog       804\n",
       "dtype: int64"
      ]
     },
     "execution_count": 22,
     "metadata": {},
     "output_type": "execute_result"
    }
   ],
   "source": [
    "train_counts = class_counts(train_dataset)\n",
    "train_counts"
   ]
  },
  {
   "cell_type": "code",
   "execution_count": 23,
   "id": "a650b1f1-3628-4097-9603-5b372d981c49",
   "metadata": {},
   "outputs": [
    {
     "data": {
      "image/png": "[encoded data removed]",
      "text/plain": [
       "<Figure size 640x480 with 1 Axes>"
      ]
     },
     "metadata": {},
     "output_type": "display_data"
    }
   ],
   "source": [
    "train_counts.sort_values().plot(kind=\"bar\");"
   ]
  },
  {
   "cell_type": "code",
   "execution_count": 24,
   "id": "ae6c3a7a-f526-4403-8b08-450caf548518",
   "metadata": {},
   "outputs": [
    {
     "data": {
      "application/vnd.jupyter.widget-view+json": {
       "model_id": "d717cc91497242f9a7f52074fa0e9766",
       "version_major": 2,
       "version_minor": 0
      },
      "text/plain": [
       "  0%|          | 0/638 [00:00<?, ?it/s]"
      ]
     },
     "metadata": {},
     "output_type": "display_data"
    },
    {
     "data": {
      "text/plain": [
       "<Axes: >"
      ]
     },
     "execution_count": 24,
     "metadata": {},
     "output_type": "execute_result"
    },
    {
     "data": {
      "image/png": "[encoded data removed]",
      "text/plain": [
       "<Figure size 640x480 with 1 Axes>"
      ]
     },
     "metadata": {},
     "output_type": "display_data"
    }
   ],
   "source": [
    "val_counts = class_counts(val_dataset)\n",
    "\n",
    "# Make a bar chart from the function output\n",
    "val_counts.sort_values().plot(kind=\"bar\")"
   ]
  },
  {
   "cell_type": "markdown",
   "id": "df7bf5c8-1fa4-49ae-8761-ff8288b11487",
   "metadata": {},
   "source": [
    " From both visualizations, we see two things:\n",
    "\n",
    "About two-thirds of the data is the \"blank\" label.\n",
    "Both the training and validation set are similarly distributed."
   ]
  },
  {
   "cell_type": "markdown",
   "id": "0df2b0c3-9d7e-44f5-8030-6569d443253c",
   "metadata": {},
   "source": [
    "# Create the validation loader."
   ]
  },
  {
   "cell_type": "code",
   "execution_count": 25,
   "id": "506c1f0d-7c03-4c91-82e8-6d29422a2301",
   "metadata": {},
   "outputs": [
    {
     "name": "stdout",
     "output_type": "stream",
     "text": [
      "<class 'torch.utils.data.dataloader.DataLoader'>\n"
     ]
    }
   ],
   "source": [
    "# Important, don't change this!\n",
    "g = torch.Generator()\n",
    "g.manual_seed(42)\n",
    "\n",
    "batch_size = 32\n",
    "train_loader = DataLoader(train_dataset, batch_size=batch_size, shuffle=True, generator=g)\n",
    "\n",
    "val_loader = DataLoader(val_dataset, batch_size=batch_size, shuffle=False)\n",
    "\n",
    "print(type(val_loader))"
   ]
  },
  {
   "cell_type": "markdown",
   "id": "181190ca-d806-49ab-a926-7dcda96c879b",
   "metadata": {},
   "source": [
    "# Building a shallow neural network"
   ]
  },
  {
   "cell_type": "code",
   "execution_count": 26,
   "id": "d7ea2fbd-f20a-45bc-8d43-613c503b8398",
   "metadata": {},
   "outputs": [
    {
     "name": "stdout",
     "output_type": "stream",
     "text": [
      "Shape of batch of images torch.Size([32, 3, 224, 224])\n",
      "Shape of batch of labels: torch.Size([32])\n"
     ]
    }
   ],
   "source": [
    "data_iter = iter(train_loader)\n",
    "images, labels = next(data_iter)\n",
    "\n",
    "# This gives you [batch_size, channels, height, width] for images\n",
    "image_shape = images.shape\n",
    "print(\"Shape of batch of images\", image_shape)\n",
    "\n",
    "# This gives you [batch_size] for labels\n",
    "label_shape = labels.shape\n",
    "print(\"Shape of batch of labels:\", label_shape)"
   ]
  },
  {
   "cell_type": "code",
   "execution_count": 27,
   "id": "2fd004bf-5192-4950-b14c-914fb089f6a7",
   "metadata": {},
   "outputs": [
    {
     "data": {
      "text/plain": [
       "tensor([0, 0, 0, 0, 0, 0, 0, 0, 0, 0, 0, 0, 0, 0, 0, 0, 0, 0, 1, 0, 0, 0, 1, 0,\n",
       "        1, 0, 0, 0, 1, 0, 0, 1])"
      ]
     },
     "execution_count": 27,
     "metadata": {},
     "output_type": "execute_result"
    }
   ],
   "source": [
    "labels"
   ]
  },
  {
   "cell_type": "code",
   "execution_count": 28,
   "id": "820dc4ad-f609-4d46-a166-1ac7847b3864",
   "metadata": {},
   "outputs": [
    {
     "name": "stdout",
     "output_type": "stream",
     "text": [
      "shape of flattened tensor:torch.Size([32, 150528])\n"
     ]
    }
   ],
   "source": [
    "flatten = nn.Flatten()\n",
    "tensor_flatten = flatten(images)\n",
    "\n",
    "# Print the shape of the flattened tensor\n",
    "print(f\"shape of flattened tensor:{tensor_flatten.shape}\")"
   ]
  },
  {
   "cell_type": "code",
   "execution_count": 29,
   "id": "ee4ef9e7-05a1-4ee6-9d7d-d8076ce0c41c",
   "metadata": {},
   "outputs": [
    {
     "name": "stdout",
     "output_type": "stream",
     "text": [
      "model type: <class 'torch.nn.modules.container.Sequential'>\n",
      "model structure:\n",
      "Sequential(\n",
      "  (0): Flatten(start_dim=1, end_dim=-1)\n",
      "  (1): Linear(in_features=150528, out_features=512, bias=True)\n",
      "  (2): ReLU()\n",
      "  (3): Linear(in_features=512, out_features=128, bias=True)\n",
      "  (4): ReLU()\n",
      ")\n"
     ]
    }
   ],
   "source": [
    "# Image size from our transformer\n",
    "height = 224\n",
    "width = 224\n",
    "\n",
    "model = nn.Sequential(\n",
    "    nn.Flatten(),\n",
    "    nn.Linear(3 * height * width, 512),\n",
    "    nn.ReLU(),\n",
    "    nn.Linear(512, 128),\n",
    "    nn.ReLU(),\n",
    ")\n",
    "\n",
    "print(\"model type:\", type(model))\n",
    "print(\"model structure:\")\n",
    "print(model)"
   ]
  },
  {
   "cell_type": "code",
   "execution_count": 30,
   "id": "28fbc527-fb7a-48a2-b85c-12d2a7af912a",
   "metadata": {},
   "outputs": [
    {
     "name": "stdout",
     "output_type": "stream",
     "text": [
      "Sequential(\n",
      "  (0): Flatten(start_dim=1, end_dim=-1)\n",
      "  (1): Linear(in_features=150528, out_features=512, bias=True)\n",
      "  (2): ReLU()\n",
      "  (3): Linear(in_features=512, out_features=128, bias=True)\n",
      "  (4): ReLU()\n",
      "  (5): Linear(in_features=128, out_features=2, bias=True)\n",
      ")\n"
     ]
    }
   ],
   "source": [
    "# create the Output layer\n",
    "\n",
    "output_layer = nn.Linear(128, 2)\n",
    "model.append(output_layer)\n",
    "\n",
    "print(model)"
   ]
  },
  {
   "cell_type": "markdown",
   "id": "8709461a-a07b-4c97-9a76-db1be9252ec1",
   "metadata": {},
   "source": [
    "We can see three different types of layers being used:\n",
    "\n",
    "nn.Flatten flattens the three-dimensional input tensors to the one-dimensional tensors that the next layers expect.\n",
    "nn.Linear is a standard dense, or fully-connected, layer. It takes two arguments, the number of inputs coming into this layer and the number of outputs produced by this layer.\n",
    "nn.ReLU performs the rectified linear unit activation. Activation functions are necessary for neural networks to work, and ReLU is a popular choice.\n",
    "The last nn.Linear is our output layer. It must have 128 inputs, to match the output of the preceding layer, and it must have 2 outputs to match the two classes. Note that there's no activation function applied after the output layer. This means that the outputs of this layer are the logits. Later on, these logits will be the input to a normalization function, called softmax in this case, that will turn the logits into probabilities."
   ]
  },
  {
   "cell_type": "markdown",
   "id": "300ba9be-b779-40c4-b868-c31d79669df9",
   "metadata": {},
   "source": [
    "# Training Our Model"
   ]
  },
  {
   "cell_type": "markdown",
   "id": "ca56ce2a-7b78-4f74-b21c-40f0243d8558",
   "metadata": {},
   "source": [
    "# Epoch Loss Report"
   ]
  },
  {
   "cell_type": "code",
   "execution_count": 31,
   "id": "d71df6f6-fbd4-443d-908b-6e3563c2fd26",
   "metadata": {},
   "outputs": [],
   "source": [
    "loss_fn = nn.CrossEntropyLoss()"
   ]
  },
  {
   "cell_type": "code",
   "execution_count": 32,
   "id": "9bd9e259-a07e-4821-893e-30bf858466d6",
   "metadata": {},
   "outputs": [],
   "source": [
    "# Define an optimizer\n",
    "optimizer = optim.Adam(model.parameters(), lr=0.001)"
   ]
  },
  {
   "cell_type": "markdown",
   "id": "5a40c166-55f5-47c1-8213-97e9f0f3967b",
   "metadata": {},
   "source": [
    "model: The PyTorch model we built with a specific architecture\n",
    "\n",
    "optimizer: The optimizer that will be used to best adjust the model weights\n",
    "\n",
    "loss_fn: The loss function that the optimizer is trying to minimize\n",
    "\n",
    "data_loader: The DataLoader object for the training dataset that makes it easy to iterate over batches\n",
    "\n",
    "device: The device where we're going to place the tensors"
   ]
  },
  {
   "cell_type": "code",
   "execution_count": 33,
   "id": "45f8cd93-761d-465c-8e4b-201101ed9b69",
   "metadata": {},
   "outputs": [],
   "source": [
    "def train_epoch(model, optimizer, loss_fn, data_loader, device=\"cpu\"):\n",
    "    # We'll report the loss function's average value at the end of the epoch.\n",
    "    training_loss = 0.0\n",
    "\n",
    "    # The train method simply sets the model in training mode. No training\n",
    "    # has happened.\n",
    "    model.train()\n",
    "\n",
    "    # We iterate over all batches in the training set to complete one epoch\n",
    "    for inputs, targets in tqdm(data_loader, desc=\"Training\", leave=False):\n",
    "        # Sets the gradients to zero. We need to do this every time.\n",
    "        optimizer.zero_grad()\n",
    "\n",
    "        # Unpack images (X) and labels (y) from the batch and add those\n",
    "        # tensors to the specified device.\n",
    "        inputs = inputs.to(device)\n",
    "        targets = targets.to(device)\n",
    "\n",
    "        # We make a forward pass through the network and obtain the logits.\n",
    "        # With the logits, we can calculate our loss.\n",
    "        output = model(inputs)\n",
    "        loss = loss_fn(output, targets)\n",
    "\n",
    "        # After calculating our loss, we calculate the numerical value of\n",
    "        # the derivative of our loss function with respect to all the\n",
    "        # trainable model weights. Once we have the gradients calculated,\n",
    "        # we let the optimizer take a \"step\", in other words, update or\n",
    "        # adjust the model weights.\n",
    "        loss.backward()\n",
    "        optimizer.step()\n",
    "\n",
    "        # We increment the training loss for the current batch\n",
    "        training_loss += loss.data.item() * inputs.size(0)\n",
    "\n",
    "    # We calculate the training loss over the completed epoch\n",
    "    return training_loss / len(data_loader.dataset)"
   ]
  },
  {
   "cell_type": "code",
   "execution_count": 34,
   "id": "c4d6f249-dc10-4278-8307-cf1d78b4829a",
   "metadata": {},
   "outputs": [
    {
     "data": {
      "application/vnd.jupyter.widget-view+json": {
       "model_id": "e4674b116184419cb059374c98815ed0",
       "version_major": 2,
       "version_minor": 0
      },
      "text/plain": [
       "Training:   0%|          | 0/80 [00:00<?, ?it/s]"
      ]
     },
     "metadata": {},
     "output_type": "display_data"
    },
    {
     "name": "stdout",
     "output_type": "stream",
     "text": [
      "The average loss during the training epoch was 3.48.\n"
     ]
    }
   ],
   "source": [
    "loss_value = train_epoch(model, optimizer, loss_fn, train_loader, device)\n",
    "print(f\"The average loss during the training epoch was {loss_value:.2f}.\")"
   ]
  },
  {
   "cell_type": "markdown",
   "id": "c2ca9b5b-398b-4034-80a1-22a67660ad5c",
   "metadata": {},
   "source": [
    "A nice feature of neural networks is that when we do another training run, it doesn't start training from scratch. In other words, training resumes from the current weights and continues to adjust the weights to improve the model's performance."
   ]
  },
  {
   "cell_type": "code",
   "execution_count": 35,
   "id": "04889fc7-fd1a-44f7-8ff5-24558149c006",
   "metadata": {},
   "outputs": [
    {
     "data": {
      "application/vnd.jupyter.widget-view+json": {
       "model_id": "bcc3abfb9ba14e7da3365230ba72a2ba",
       "version_major": 2,
       "version_minor": 0
      },
      "text/plain": [
       "Training:   0%|          | 0/80 [00:00<?, ?it/s]"
      ]
     },
     "metadata": {},
     "output_type": "display_data"
    },
    {
     "name": "stdout",
     "output_type": "stream",
     "text": [
      "The average loss during the training epoch was 0.62.\n"
     ]
    }
   ],
   "source": [
    "loss_value = train_epoch(model, optimizer, loss_fn, train_loader, device)\n",
    "print(f\"The average loss during the training epoch was {loss_value:.2f}.\")"
   ]
  },
  {
   "cell_type": "markdown",
   "id": "55d124c9-6061-4990-b584-03411d54387f",
   "metadata": {},
   "source": [
    "# Validation prediction"
   ]
  },
  {
   "cell_type": "code",
   "execution_count": 36,
   "id": "f43fd24f-962b-413b-a3bc-24e61c7bf9f1",
   "metadata": {},
   "outputs": [],
   "source": [
    "def predict(model, data_loader, device=\"cpu\"):\n",
    "    # This tensor will store all of the predictions.\n",
    "    all_probs = torch.tensor([]).to(device)\n",
    "\n",
    "    # We set the model to evaluation mode. This mode is the opposite of\n",
    "    # train mode we set in the train_epoch function.\n",
    "    model.eval()\n",
    "\n",
    "    # Since we're not training, we don't need any gradient calculations.\n",
    "    # This tells PyTorch not to calculate any gradients, which speeds up\n",
    "    # some calculations.\n",
    "    with torch.no_grad():\n",
    "\n",
    "        # Again, we iterate over the batches in the data loader and feed\n",
    "        # them into the model for the forward pass.\n",
    "        for inputs, targets in tqdm(data_loader, desc=\"Predicting\", leave=False):\n",
    "            inputs = inputs.to(device)\n",
    "            output = model(inputs)\n",
    "\n",
    "            # The model produces the logits.  This softmax function turns the\n",
    "            # logits into probabilities.  These probabilities are concatenated\n",
    "            # into the `all_probs` tensor.\n",
    "            probs = F.softmax(output, dim=1)\n",
    "            all_probs = torch.cat((all_probs, probs), dim=0)\n",
    "\n",
    "    return all_probs"
   ]
  },
  {
   "cell_type": "code",
   "execution_count": 37,
   "id": "5d184be3-3f5b-44c3-8f04-a0ae7d93764f",
   "metadata": {},
   "outputs": [
    {
     "data": {
      "application/vnd.jupyter.widget-view+json": {
       "model_id": "3083556427c440f08faf56a22215be94",
       "version_major": 2,
       "version_minor": 0
      },
      "text/plain": [
       "Predicting:   0%|          | 0/80 [00:00<?, ?it/s]"
      ]
     },
     "metadata": {},
     "output_type": "display_data"
    },
    {
     "name": "stdout",
     "output_type": "stream",
     "text": [
      "torch.Size([2553, 2])\n"
     ]
    }
   ],
   "source": [
    "probabilities_train = predict(model, train_loader, device)\n",
    "print(probabilities_train.shape)"
   ]
  },
  {
   "cell_type": "markdown",
   "id": "b609e402-efdf-4e60-ad99-8871f290890e",
   "metadata": {},
   "source": [
    "# Make a prediction for each row of the validation data."
   ]
  },
  {
   "cell_type": "code",
   "execution_count": 38,
   "id": "aeb72faa-be3f-4d74-ab7b-ae707d4ec0a5",
   "metadata": {},
   "outputs": [
    {
     "data": {
      "text/plain": [
       "2553"
      ]
     },
     "execution_count": 38,
     "metadata": {},
     "output_type": "execute_result"
    }
   ],
   "source": [
    "len(train_loader.dataset)"
   ]
  },
  {
   "cell_type": "code",
   "execution_count": 39,
   "id": "d1cb47de-9500-4c64-bae2-91695ae6f810",
   "metadata": {},
   "outputs": [
    {
     "data": {
      "application/vnd.jupyter.widget-view+json": {
       "model_id": "ff5a3ddf9951472f9a2f11ca82926864",
       "version_major": 2,
       "version_minor": 0
      },
      "text/plain": [
       "Predicting:   0%|          | 0/20 [00:00<?, ?it/s]"
      ]
     },
     "metadata": {},
     "output_type": "display_data"
    },
    {
     "name": "stdout",
     "output_type": "stream",
     "text": [
      "torch.Size([638, 2])\n"
     ]
    }
   ],
   "source": [
    "probabilities_val = predict(model, val_loader,device) \n",
    "print(probabilities_val.shape)"
   ]
  },
  {
   "cell_type": "code",
   "execution_count": 40,
   "id": "f6fe12ed-c56d-43e9-852a-5e803644f5c5",
   "metadata": {},
   "outputs": [
    {
     "name": "stdout",
     "output_type": "stream",
     "text": [
      "tensor([0.0935, 0.9065])\n"
     ]
    }
   ],
   "source": [
    "print(probabilities_train[0])"
   ]
  },
  {
   "cell_type": "markdown",
   "id": "8176243e-976d-4767-b61e-457df7318880",
   "metadata": {},
   "source": [
    " We see two numbers here. The first is the probability that this image is of the first class (\"blank\") and the second is the probability that it's of the second class (\"hog\"). Because these are the only two possibilities, they should add up to one.\n",
    "\n"
   ]
  },
  {
   "cell_type": "code",
   "execution_count": 41,
   "id": "b6fdc2f8-d5b4-422c-a689-42a5636a899d",
   "metadata": {},
   "outputs": [
    {
     "data": {
      "text/plain": [
       "tensor(1.)"
      ]
     },
     "execution_count": 41,
     "metadata": {},
     "output_type": "execute_result"
    }
   ],
   "source": [
    "probabilities_train[0].sum()"
   ]
  },
  {
   "cell_type": "markdown",
   "id": "da712a99-927a-4aec-9445-9109de273a93",
   "metadata": {},
   "source": [
    "# Initial precision display"
   ]
  },
  {
   "cell_type": "markdown",
   "id": "6bdd6281-6fd1-4969-9600-dd0f9124050d",
   "metadata": {},
   "source": [
    "# Make a prediction for each row of the validation data"
   ]
  },
  {
   "cell_type": "code",
   "execution_count": 42,
   "id": "8d229b8e-643b-4933-9382-adcf0193f1c3",
   "metadata": {},
   "outputs": [
    {
     "data": {
      "text/plain": [
       "tensor([0.5085, 0.4915])"
      ]
     },
     "execution_count": 42,
     "metadata": {},
     "output_type": "execute_result"
    }
   ],
   "source": [
    "probabilities_val[0]"
   ]
  },
  {
   "cell_type": "markdown",
   "id": "4854c409-64f4-4725-b469-e20b8189844b",
   "metadata": {},
   "source": [
    "# Probability summation"
   ]
  },
  {
   "cell_type": "code",
   "execution_count": 43,
   "id": "df91f130-0a47-4e78-8504-88dad2b003fe",
   "metadata": {},
   "outputs": [
    {
     "data": {
      "text/plain": [
       "tensor([0.5085, 0.4915])"
      ]
     },
     "execution_count": 43,
     "metadata": {},
     "output_type": "execute_result"
    }
   ],
   "source": [
    "# Print the probabilities of the first row\n",
    "probabilities_val[0]"
   ]
  },
  {
   "cell_type": "code",
   "execution_count": 44,
   "id": "6c3cb0f0-52f1-4638-8249-42bed821abb1",
   "metadata": {},
   "outputs": [
    {
     "name": "stdout",
     "output_type": "stream",
     "text": [
      "Sum of probabilities: 1.0\n"
     ]
    }
   ],
   "source": [
    "total_probability = probabilities_val[0].sum()\n",
    "print(f\"Sum of probabilities: {total_probability.item()}\")"
   ]
  },
  {
   "cell_type": "markdown",
   "id": "aa30038b-12aa-489f-a14b-4905dd8024f9",
   "metadata": {},
   "source": [
    "# class label prediction"
   ]
  },
  {
   "cell_type": "code",
   "execution_count": 45,
   "id": "5a840aca-1489-46ad-af43-710b95c7d08b",
   "metadata": {},
   "outputs": [
    {
     "name": "stdout",
     "output_type": "stream",
     "text": [
      "Predictions shape: torch.Size([2553])\n",
      "First 10 predictions: tensor([1, 0, 0, 0, 0, 0, 0, 0, 0, 0])\n"
     ]
    }
   ],
   "source": [
    "predictions_train = torch.argmax(probabilities_train, dim=1)\n",
    "\n",
    "print(f\"Predictions shape: {predictions_train.shape}\")\n",
    "print(f\"First 10 predictions: {predictions_train[:10]}\")"
   ]
  },
  {
   "cell_type": "code",
   "execution_count": 46,
   "id": "e0611a61-84c8-4898-8526-e9f24de4c90a",
   "metadata": {},
   "outputs": [
    {
     "name": "stdout",
     "output_type": "stream",
     "text": [
      "Predictions shape: torch.Size([638])\n",
      "First 10 predictions: tensor([0, 0, 0, 0, 0, 0, 0, 0, 0, 0])\n"
     ]
    }
   ],
   "source": [
    "predictions_val = torch.argmax(probabilities_val, dim=1)\n",
    "\n",
    "print(f\"Predictions shape: {predictions_val.shape}\")\n",
    "print(f\"First 10 predictions: {predictions_val[:10]}\")"
   ]
  },
  {
   "cell_type": "markdown",
   "id": "dc157be7-5d1a-4d13-99c1-27becdfcf012",
   "metadata": {},
   "source": [
    "\n",
    "We'll compare the training set predictions to the actual class labels for the training set. The torch.eq function will help with this. We'll find the fraction that are correct. This is the accuracy"
   ]
  },
  {
   "cell_type": "code",
   "execution_count": 47,
   "id": "2869f28b-40cf-4ff7-b8a3-c2accbb96852",
   "metadata": {},
   "outputs": [
    {
     "name": "stdout",
     "output_type": "stream",
     "text": [
      "Accuracy on the training data: 0.6118292205248727\n"
     ]
    }
   ],
   "source": [
    "targets_train = torch.cat([labels for _, labels in train_loader]).to(device)\n",
    "is_correct_train = torch.eq(predictions_train, targets_train)\n",
    "total_correct_train = torch.sum(is_correct_train).item()\n",
    "accuracy_train = total_correct_train / len(train_loader.dataset)\n",
    "\n",
    "print(f\"Accuracy on the training data: {accuracy_train}\")"
   ]
  },
  {
   "cell_type": "markdown",
   "id": "1751c53f-2de8-4780-8ef8-c6c8d2898f2b",
   "metadata": {},
   "source": [
    "# validation Accuracy"
   ]
  },
  {
   "cell_type": "code",
   "execution_count": 48,
   "id": "723779f6-0033-4f73-b961-15a8436f9b73",
   "metadata": {},
   "outputs": [
    {
     "name": "stdout",
     "output_type": "stream",
     "text": [
      "Accuracy on the validation data: 0.822884012539185\n"
     ]
    }
   ],
   "source": [
    "targets_val = torch.cat([labels for _, labels in val_loader]).to(device)\n",
    "is_correct_val = torch.eq(predictions_val, targets_val)\n",
    "total_correct_val = torch.sum(is_correct_val).item()\n",
    "accuracy_val = total_correct_val/len(val_loader.dataset)\n",
    "\n",
    "print(f\"Accuracy on the validation data: {accuracy_val}\")"
   ]
  },
  {
   "cell_type": "markdown",
   "id": "f27400e5-6403-4bd3-923a-6cd87a196113",
   "metadata": {},
   "source": [
    "# Accuracy Confirmation"
   ]
  },
  {
   "cell_type": "code",
   "execution_count": 49,
   "id": "6da1ca42-c929-4409-b1d4-a97d86000798",
   "metadata": {},
   "outputs": [],
   "source": [
    "def score(model, data_loader, loss_fn, device=\"cpu\"):\n",
    "    # Initialize the total loss (cross entropy) and the number of correct\n",
    "    # predictions. We'll increment these values as we loop through the\n",
    "    # data.\n",
    "    total_loss = 0\n",
    "    total_correct = 0\n",
    "\n",
    "    # We set the model to evaluation mode. This mode is the opposite of\n",
    "    # train mode we set in the train_epoch function.\n",
    "    model.eval()\n",
    "\n",
    "    # Since we're not training, we don't need any gradient calculations.\n",
    "    # This tells PyTorch not to calculate any gradients, which speeds up\n",
    "    # some calculations.\n",
    "    with torch.no_grad():\n",
    "        # We iterate over the batches in the data loader and feed\n",
    "        # them into the model for the forward pass.\n",
    "        for inputs, targets in tqdm(data_loader, desc=\"Scoring\", leave=False):\n",
    "            inputs = inputs.to(device)\n",
    "            output = model(inputs)\n",
    "\n",
    "            # Calculating the loss function for this batch\n",
    "            targets = targets.to(device)\n",
    "            loss = loss_fn(output, targets)\n",
    "            total_loss += loss.data.item() * inputs.size(0)\n",
    "\n",
    "            # Calculating the correct predictions for this batch\n",
    "            correct = torch.eq(torch.argmax(output, dim=1), targets)\n",
    "            total_correct += torch.sum(correct).item()\n",
    "\n",
    "    return total_loss / len(data_loader.dataset), total_correct / len(\n",
    "        data_loader.dataset\n",
    "    )"
   ]
  },
  {
   "cell_type": "code",
   "execution_count": 50,
   "id": "35d8ba15-30a2-43c6-b020-ee049d85be37",
   "metadata": {},
   "outputs": [
    {
     "data": {
      "application/vnd.jupyter.widget-view+json": {
       "model_id": "ff43385668a24b91904bd3354c6bf9c4",
       "version_major": 2,
       "version_minor": 0
      },
      "text/plain": [
       "Scoring:   0%|          | 0/80 [00:00<?, ?it/s]"
      ]
     },
     "metadata": {},
     "output_type": "display_data"
    },
    {
     "name": "stdout",
     "output_type": "stream",
     "text": [
      "Training accuracy from score function: 0.8202115158636898\n"
     ]
    }
   ],
   "source": [
    "loss_train, accuracy_train = score(model, train_loader, loss_fn, device)\n",
    "print(f\"Training accuracy from score function: {accuracy_train}\")"
   ]
  },
  {
   "cell_type": "code",
   "execution_count": 51,
   "id": "a24ea57b-1d0b-4aad-863e-54c99bd55fe2",
   "metadata": {},
   "outputs": [
    {
     "data": {
      "application/vnd.jupyter.widget-view+json": {
       "model_id": "63ceb0e397e743039ce5d8da72ae3cdf",
       "version_major": 2,
       "version_minor": 0
      },
      "text/plain": [
       "Scoring:   0%|          | 0/20 [00:00<?, ?it/s]"
      ]
     },
     "metadata": {},
     "output_type": "display_data"
    },
    {
     "name": "stdout",
     "output_type": "stream",
     "text": [
      "Validation accuracy from score function: 0.822884012539185\n"
     ]
    }
   ],
   "source": [
    "loss_val, accuracy_val = score(model, val_loader, loss_fn, device)\n",
    "print(f\"Validation accuracy from score function: {accuracy_val}\")"
   ]
  },
  {
   "cell_type": "markdown",
   "id": "205372ed-0cab-4bee-8428-a056d26ee277",
   "metadata": {},
   "source": [
    "# Extended Epoch Training"
   ]
  },
  {
   "cell_type": "code",
   "execution_count": 52,
   "id": "f2849c88-cf43-404d-a12f-9e0d546d27fc",
   "metadata": {},
   "outputs": [],
   "source": [
    "def train(model, optimizer, loss_fn, train_loader, val_loader, epochs=20, device=\"cpu\"):\n",
    "\n",
    "    for epoch in range(1, epochs + 1):\n",
    "        # Run train_epoch once, and capture the training loss.\n",
    "        training_loss = train_epoch(model, optimizer, loss_fn, train_loader, device)\n",
    "\n",
    "        # Score the model on the validation data.\n",
    "        validation_loss, validation_accuracy = score(model, val_loader, loss_fn, device)\n",
    "\n",
    "        print(\n",
    "            f\"Epoch: {epoch}, Training Loss: {training_loss:.2f}, \"\n",
    "            f\"Validation Loss: {validation_loss:.2f}, Validation Accuracy: {validation_accuracy:.2f}\"\n",
    "        )"
   ]
  },
  {
   "cell_type": "code",
   "execution_count": 53,
   "id": "8bd850f3-5e5d-4730-964b-8dda0a3709e2",
   "metadata": {},
   "outputs": [
    {
     "data": {
      "application/vnd.jupyter.widget-view+json": {
       "model_id": "3942aa403fdd492c81cb60ae6bc000b8",
       "version_major": 2,
       "version_minor": 0
      },
      "text/plain": [
       "Training:   0%|          | 0/80 [00:00<?, ?it/s]"
      ]
     },
     "metadata": {},
     "output_type": "display_data"
    },
    {
     "data": {
      "application/vnd.jupyter.widget-view+json": {
       "model_id": "dd1077a0fee44407b71b25b934148634",
       "version_major": 2,
       "version_minor": 0
      },
      "text/plain": [
       "Scoring:   0%|          | 0/20 [00:00<?, ?it/s]"
      ]
     },
     "metadata": {},
     "output_type": "display_data"
    },
    {
     "name": "stdout",
     "output_type": "stream",
     "text": [
      "Epoch: 1, Training Loss: 0.63, Validation Loss: 0.68, Validation Accuracy: 0.78\n"
     ]
    },
    {
     "data": {
      "application/vnd.jupyter.widget-view+json": {
       "model_id": "813808a751b2459d96e9783f40c51178",
       "version_major": 2,
       "version_minor": 0
      },
      "text/plain": [
       "Training:   0%|          | 0/80 [00:00<?, ?it/s]"
      ]
     },
     "metadata": {},
     "output_type": "display_data"
    },
    {
     "data": {
      "application/vnd.jupyter.widget-view+json": {
       "model_id": "ad1afbf9450548008f629e799ba5ad66",
       "version_major": 2,
       "version_minor": 0
      },
      "text/plain": [
       "Scoring:   0%|          | 0/20 [00:00<?, ?it/s]"
      ]
     },
     "metadata": {},
     "output_type": "display_data"
    },
    {
     "name": "stdout",
     "output_type": "stream",
     "text": [
      "Epoch: 2, Training Loss: 0.54, Validation Loss: 0.77, Validation Accuracy: 0.78\n"
     ]
    },
    {
     "data": {
      "application/vnd.jupyter.widget-view+json": {
       "model_id": "66915674a7f040d4a21a1b41c13d2271",
       "version_major": 2,
       "version_minor": 0
      },
      "text/plain": [
       "Training:   0%|          | 0/80 [00:00<?, ?it/s]"
      ]
     },
     "metadata": {},
     "output_type": "display_data"
    },
    {
     "data": {
      "application/vnd.jupyter.widget-view+json": {
       "model_id": "2028cac6847447409e5331f1ec698577",
       "version_major": 2,
       "version_minor": 0
      },
      "text/plain": [
       "Scoring:   0%|          | 0/20 [00:00<?, ?it/s]"
      ]
     },
     "metadata": {},
     "output_type": "display_data"
    },
    {
     "name": "stdout",
     "output_type": "stream",
     "text": [
      "Epoch: 3, Training Loss: 0.50, Validation Loss: 0.47, Validation Accuracy: 0.81\n"
     ]
    },
    {
     "data": {
      "application/vnd.jupyter.widget-view+json": {
       "model_id": "30786d872fb546289bc7017b2aa3357e",
       "version_major": 2,
       "version_minor": 0
      },
      "text/plain": [
       "Training:   0%|          | 0/80 [00:00<?, ?it/s]"
      ]
     },
     "metadata": {},
     "output_type": "display_data"
    },
    {
     "data": {
      "application/vnd.jupyter.widget-view+json": {
       "model_id": "f9daa549c15c4508b347a0773515da18",
       "version_major": 2,
       "version_minor": 0
      },
      "text/plain": [
       "Scoring:   0%|          | 0/20 [00:00<?, ?it/s]"
      ]
     },
     "metadata": {},
     "output_type": "display_data"
    },
    {
     "name": "stdout",
     "output_type": "stream",
     "text": [
      "Epoch: 4, Training Loss: 0.44, Validation Loss: 0.36, Validation Accuracy: 0.87\n"
     ]
    },
    {
     "data": {
      "application/vnd.jupyter.widget-view+json": {
       "model_id": "22dc9ca8b8d74af9b24b8eaf8f923f1a",
       "version_major": 2,
       "version_minor": 0
      },
      "text/plain": [
       "Training:   0%|          | 0/80 [00:00<?, ?it/s]"
      ]
     },
     "metadata": {},
     "output_type": "display_data"
    },
    {
     "data": {
      "application/vnd.jupyter.widget-view+json": {
       "model_id": "b80ab60b59994fc980003e10dd818219",
       "version_major": 2,
       "version_minor": 0
      },
      "text/plain": [
       "Scoring:   0%|          | 0/20 [00:00<?, ?it/s]"
      ]
     },
     "metadata": {},
     "output_type": "display_data"
    },
    {
     "name": "stdout",
     "output_type": "stream",
     "text": [
      "Epoch: 5, Training Loss: 0.40, Validation Loss: 0.34, Validation Accuracy: 0.87\n"
     ]
    }
   ],
   "source": [
    "train(model, optimizer, loss_fn, train_loader, val_loader, epochs=5, device=device)"
   ]
  },
  {
   "cell_type": "markdown",
   "id": "17dd2ee3-4ec0-4ce6-a613-82ef8398babb",
   "metadata": {},
   "source": [
    "# Continue training the model for two more epochs."
   ]
  },
  {
   "cell_type": "code",
   "execution_count": 54,
   "id": "6fe77abc-b529-4c62-9a9e-4853f6b07994",
   "metadata": {},
   "outputs": [
    {
     "data": {
      "application/vnd.jupyter.widget-view+json": {
       "model_id": "affe8fef5c3b41859eeed7400592ec5d",
       "version_major": 2,
       "version_minor": 0
      },
      "text/plain": [
       "Training:   0%|          | 0/80 [00:00<?, ?it/s]"
      ]
     },
     "metadata": {},
     "output_type": "display_data"
    },
    {
     "data": {
      "application/vnd.jupyter.widget-view+json": {
       "model_id": "dc87b2326c194001b7e5abdd5de656f8",
       "version_major": 2,
       "version_minor": 0
      },
      "text/plain": [
       "Scoring:   0%|          | 0/20 [00:00<?, ?it/s]"
      ]
     },
     "metadata": {},
     "output_type": "display_data"
    },
    {
     "name": "stdout",
     "output_type": "stream",
     "text": [
      "Epoch: 1, Training Loss: 0.36, Validation Loss: 0.35, Validation Accuracy: 0.86\n"
     ]
    },
    {
     "data": {
      "application/vnd.jupyter.widget-view+json": {
       "model_id": "52594ab31974427cb780ae6abee97d83",
       "version_major": 2,
       "version_minor": 0
      },
      "text/plain": [
       "Training:   0%|          | 0/80 [00:00<?, ?it/s]"
      ]
     },
     "metadata": {},
     "output_type": "display_data"
    },
    {
     "data": {
      "application/vnd.jupyter.widget-view+json": {
       "model_id": "31b4ccdc9c6241fcb0f68fc5e1175882",
       "version_major": 2,
       "version_minor": 0
      },
      "text/plain": [
       "Scoring:   0%|          | 0/20 [00:00<?, ?it/s]"
      ]
     },
     "metadata": {},
     "output_type": "display_data"
    },
    {
     "name": "stdout",
     "output_type": "stream",
     "text": [
      "Epoch: 2, Training Loss: 0.35, Validation Loss: 0.29, Validation Accuracy: 0.91\n"
     ]
    }
   ],
   "source": [
    "\n",
    "train(model, optimizer, loss_fn, train_loader, val_loader, epochs=2, device=device)"
   ]
  },
  {
   "cell_type": "code",
   "execution_count": 55,
   "id": "bace7aaf-c157-4fd4-ac0d-842d77800882",
   "metadata": {},
   "outputs": [],
   "source": [
    "# Load the pre-trained model with the following line"
   ]
  },
  {
   "cell_type": "code",
   "execution_count": 56,
   "id": "14fe4bac-19b0-4b27-9dfb-81e0bd7dbd25",
   "metadata": {},
   "outputs": [],
   "source": [
    "import os\n",
    "\n",
    "# Make sure the directory exists\n",
    "os.makedirs(\"model\", exist_ok=True)\n",
    "\n",
    "\n"
   ]
  },
  {
   "cell_type": "code",
   "execution_count": 64,
   "id": "402b49c7-1cbb-49ca-9d8c-11a9fec823a7",
   "metadata": {},
   "outputs": [],
   "source": [
    "# Save the entire model after training\n",
    "torch.save(model, \"model/trained_model.pth\")"
   ]
  },
  {
   "cell_type": "code",
   "execution_count": 65,
   "id": "4204158a-f2b8-4e72-a002-c448b9dcd2f1",
   "metadata": {},
   "outputs": [],
   "source": [
    "model = torch.load(\"model/trained_model.pth\", weights_only=False)"
   ]
  },
  {
   "cell_type": "code",
   "execution_count": null,
   "id": "bd6610ae-9fc7-4852-9047-7858093dda23",
   "metadata": {},
   "outputs": [],
   "source": [
    "\n"
   ]
  },
  {
   "cell_type": "markdown",
   "id": "3311855f-cae9-49c5-ab7f-b25bd4e80c22",
   "metadata": {},
   "source": [
    "# Make a prediction for each image in the validation set."
   ]
  },
  {
   "cell_type": "code",
   "execution_count": 66,
   "id": "90c68e88-138c-4334-be0c-058c2b5b8ef0",
   "metadata": {},
   "outputs": [
    {
     "data": {
      "application/vnd.jupyter.widget-view+json": {
       "model_id": "ea350620ff374f1487e938116866398c",
       "version_major": 2,
       "version_minor": 0
      },
      "text/plain": [
       "Predicting:   0%|          | 0/20 [00:00<?, ?it/s]"
      ]
     },
     "metadata": {},
     "output_type": "display_data"
    },
    {
     "name": "stdout",
     "output_type": "stream",
     "text": [
      "tensor([0, 0, 0, 0, 0, 0, 0, 0, 0, 0])\n"
     ]
    }
   ],
   "source": [
    "probabilities_val = predict(model, val_loader, device)\n",
    "predictions_val = torch.argmax(probabilities_val, dim = 1)\n",
    "print(predictions_val[:10])"
   ]
  },
  {
   "cell_type": "code",
   "execution_count": 59,
   "id": "067ba3ba-20fb-44d5-b979-268e5aa22c51",
   "metadata": {},
   "outputs": [
    {
     "data": {
      "image/png": "[encoded data removed]",
      "text/plain": [
       "<Figure size 640x480 with 2 Axes>"
      ]
     },
     "metadata": {},
     "output_type": "display_data"
    }
   ],
   "source": [
    "cm = confusion_matrix(targets_val.cpu(), predictions_val.cpu())\n",
    "disp = ConfusionMatrixDisplay(confusion_matrix=cm, display_labels=[\"blank\", \"hog\"])\n",
    "\n",
    "disp.plot(cmap=plt.cm.Blues, xticks_rotation=\"vertical\");"
   ]
  },
  {
   "cell_type": "code",
   "execution_count": 60,
   "id": "aeec07a1-c72f-4f0f-988a-57f4385302cd",
   "metadata": {},
   "outputs": [],
   "source": [
    "img_path = os.path.join(data_dir, \"train/hog/ZJ000072.jpg\")"
   ]
  },
  {
   "cell_type": "code",
   "execution_count": 61,
   "id": "9936e768-4c1f-49dc-84d8-0182a8569161",
   "metadata": {},
   "outputs": [
    {
     "data": {
      "image/jpeg": "[encoded data removed]",
      "text/plain": [
       "<IPython.core.display.Image object>"
      ]
     },
     "execution_count": 61,
     "metadata": {},
     "output_type": "execute_result"
    }
   ],
   "source": [
    "from IPython.display import Image as JupyterImage\n",
    "JupyterImage(filename=img_path) "
   ]
  },
  {
   "cell_type": "code",
   "execution_count": 62,
   "id": "10c8d885-4d22-47c2-a7ab-bbd365d69fe7",
   "metadata": {},
   "outputs": [
    {
     "name": "stdout",
     "output_type": "stream",
     "text": [
      "hog\n"
     ]
    }
   ],
   "source": [
    "labels = [\"blank\", \"hog\"]\n",
    "\n",
    "img = Image.open(os.path.join(data_dir, \"train/hog/ZJ000072.jpg\"))\n",
    "img = transform(img).to(device)\n",
    "img = torch.unsqueeze(img, 0)\n",
    "\n",
    "model.eval()\n",
    "prediction = F.softmax(model(img), dim=1)\n",
    "prediction = prediction.argmax()\n",
    "print(labels[prediction])"
   ]
  },
  {
   "cell_type": "code",
   "execution_count": 63,
   "id": "1ad5f6d8-60e5-4541-ad9c-1c169931e05b",
   "metadata": {},
   "outputs": [
    {
     "data": {
      "text/plain": [
       "tensor([[0.0187, 0.9813]], grad_fn=<SoftmaxBackward0>)"
      ]
     },
     "execution_count": 63,
     "metadata": {},
     "output_type": "execute_result"
    }
   ],
   "source": [
    "F.softmax(model(img), dim=1)"
   ]
  }
 ],
 "metadata": {
  "kernelspec": {
   "display_name": "Python 3 (ipykernel)",
   "language": "python",
   "name": "python3"
  },
  "language_info": {
   "codemirror_mode": {
    "name": "ipython",
    "version": 3
   },
   "file_extension": ".py",
   "mimetype": "text/x-python",
   "name": "python",
   "nbconvert_exporter": "python",
   "pygments_lexer": "ipython3",
   "version": "3.13.2"
  }
 },
 "nbformat": 4,
 "nbformat_minor": 5
}
