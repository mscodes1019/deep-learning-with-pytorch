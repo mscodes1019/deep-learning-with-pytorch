{
 "cells": [
  {
   "cell_type": "code",
   "execution_count": 1,
   "id": "f37badb4-7906-4728-8791-d842629d688f",
   "metadata": {},
   "outputs": [],
   "source": [
    "import os\n",
    "import sys\n",
    "from collections import Counter\n",
    "import matplotlib\n",
    "import matplotlib.pyplot as plt\n",
    "import numpy as np\n",
    "import pandas as pd\n",
    "import PIL\n",
    "import torch\n",
    "import torch.nn as nn\n",
    "import torch.optim as optim\n",
    "import torchvision\n",
    "from sklearn.metrics import ConfusionMatrixDisplay, confusion_matrix\n",
    "from torch.utils.data import DataLoader, random_split\n",
    "from torchinfo import summary\n",
    "from torchvision import datasets, transforms\n",
    "from tqdm.notebook import tqdm\n",
    "\n",
    "torch.backends.cudnn.deterministic = True\n",
    "\n"
   ]
  },
  {
   "cell_type": "code",
   "execution_count": 2,
   "id": "efe1d4a0-e84a-40fe-a6b7-61167b13398e",
   "metadata": {},
   "outputs": [
    {
     "name": "stdout",
     "output_type": "stream",
     "text": [
      "Platform: win32\n",
      "Python version: 3.13.2 | packaged by Anaconda, Inc. | (main, Feb  6 2025, 18:49:14) [MSC v.1929 64 bit (AMD64)]\n",
      "---\n",
      "matplotlib version: 3.10.0\n",
      "pandas version: 2.2.3\n",
      "PIL version: 11.1.0\n",
      "torch version: 2.7.0+cpu\n",
      "torchvision version: 0.22.0+cpu\n"
     ]
    }
   ],
   "source": [
    "print(\"Platform:\", sys.platform)\n",
    "print(\"Python version:\", sys.version)\n",
    "print(\"---\")\n",
    "print(\"matplotlib version:\", matplotlib.__version__)\n",
    "print(\"pandas version:\", pd.__version__)\n",
    "print(\"PIL version:\", PIL.__version__)\n",
    "print(\"torch version:\", torch.__version__)\n",
    "print(\"torchvision version:\", torchvision.__version__)"
   ]
  },
  {
   "cell_type": "code",
   "execution_count": 3,
   "id": "b3127c8d-3ddc-4b2e-a30c-4268c7b1b7f7",
   "metadata": {},
   "outputs": [
    {
     "name": "stdout",
     "output_type": "stream",
     "text": [
      "Using cpu device.\n"
     ]
    }
   ],
   "source": [
    "if torch.cuda.is_available():\n",
    "    device = \"cuda\"\n",
    "elif torch.backends.mps.is_available():\n",
    "    device = \"mps\"\n",
    "else:\n",
    "    device = \"cpu\"\n",
    "\n",
    "print(f\"Using {device} device.\")"
   ]
  },
  {
   "cell_type": "markdown",
   "id": "9a8386d6-ac19-4cee-80d1-2495ca4fc369",
   "metadata": {},
   "source": [
    "# Build a transformer pipeline"
   ]
  },
  {
   "cell_type": "code",
   "execution_count": 4,
   "id": "1620ff29-ad8f-4eaf-99dc-6435ddb4cd7d",
   "metadata": {},
   "outputs": [],
   "source": [
    "class convertToRGB:\n",
    "    def __call__(self, img):\n",
    "        if img.mode != \"RGB\":\n",
    "            img = img.convert(\"RGB\")\n",
    "        return img"
   ]
  },
  {
   "cell_type": "code",
   "execution_count": 5,
   "id": "e1d45b26-4e9a-4290-a380-ba56f750a8d9",
   "metadata": {},
   "outputs": [],
   "source": [
    "transform = transforms.Compose([\n",
    "      convertToRGB(),\n",
    "      transforms.Resize((200, 200)),\n",
    "      transforms.ToTensor()\n",
    "]\n",
    ")"
   ]
  },
  {
   "cell_type": "code",
   "execution_count": 6,
   "id": "8afd970d-6b1f-482b-a684-397fa90ea5e8",
   "metadata": {},
   "outputs": [
    {
     "data": {
      "text/plain": [
       "'C:\\\\Users\\\\MonsuratAyinde\\\\Desktop\\\\CNN'"
      ]
     },
     "execution_count": 6,
     "metadata": {},
     "output_type": "execute_result"
    }
   ],
   "source": [
    "os.getcwd()"
   ]
  },
  {
   "cell_type": "code",
   "execution_count": 7,
   "id": "4cb8d7f2-a4ed-40d9-8d06-3bf3af7e3af4",
   "metadata": {},
   "outputs": [
    {
     "name": "stdout",
     "output_type": "stream",
     "text": [
      "Will read data from safari/training\n"
     ]
    }
   ],
   "source": [
    "data_dir = \"safari/\"\n",
    "train_dir = os.path.join(data_dir, \"training\")\n",
    "\n",
    "print(\"Will read data from\", train_dir)"
   ]
  },
  {
   "cell_type": "code",
   "execution_count": 8,
   "id": "3cce00f5-dc35-474d-8bc5-6c3b5cea2e3e",
   "metadata": {},
   "outputs": [],
   "source": [
    "dataset = datasets.ImageFolder(root = train_dir, transform = transform)"
   ]
  },
  {
   "cell_type": "code",
   "execution_count": 9,
   "id": "1da96b4e-1e4b-4b8a-ba9e-3ae7af6acc93",
   "metadata": {},
   "outputs": [
    {
     "name": "stdout",
     "output_type": "stream",
     "text": [
      "Classes:\n",
      "['elephant', 'giraffe', 'lion', 'zebra']\n",
      "That's 4 classes\n",
      "\n",
      "Tensor shape for one image:\n",
      "torch.Size([3, 200, 200])\n"
     ]
    }
   ],
   "source": [
    "print(\"Classes:\")\n",
    "print(dataset.classes)\n",
    "print(f\"That's {len(dataset.classes)} classes\")\n",
    "print()\n",
    "print(\"Tensor shape for one image:\")\n",
    "print(dataset[0][0].shape)"
   ]
  },
  {
   "cell_type": "markdown",
   "id": "c893e4f5-0da0-4f26-a98b-8add9121ab9b",
   "metadata": {},
   "source": [
    "# Create a DataLoader that loads from this DataSet in batches of 32."
   ]
  },
  {
   "cell_type": "code",
   "execution_count": 10,
   "id": "97e87f8c-a018-45cf-bbbe-68d7584033bb",
   "metadata": {},
   "outputs": [
    {
     "name": "stdout",
     "output_type": "stream",
     "text": [
      "Shape of one batch: torch.Size([32, 3, 200, 200])\n",
      "Shape of labels: torch.Size([32])\n"
     ]
    }
   ],
   "source": [
    "\n",
    "batch_size = 32\n",
    "dataset_loader = DataLoader(dataset, batch_size = batch_size)\n",
    "\n",
    "# get one batch\n",
    "first_batch = next(iter(dataset_loader))\n",
    "print(f\"Shape of one batch: {first_batch[0].shape}\")\n",
    "print(f\"Shape of labels: {first_batch[1].shape}\")"
   ]
  },
  {
   "cell_type": "markdown",
   "id": "d250acb8-5824-41c8-bebe-142957637264",
   "metadata": {},
   "source": [
    "# Transform the Data"
   ]
  },
  {
   "cell_type": "markdown",
   "id": "9c5e68a3-1f6c-40b8-b847-0693f7b89b34",
   "metadata": {},
   "source": [
    "Our images are all the same shape, and have been converted to tensors. But neural networks tend to perform best with data that has a mean of  \n",
    "0 and a standard deviation of 1"
   ]
  },
  {
   "cell_type": "code",
   "execution_count": 11,
   "id": "18d7441e-cccc-43fc-8fcc-a7d68ec08bb9",
   "metadata": {},
   "outputs": [
    {
     "data": {
      "application/vnd.jupyter.widget-view+json": {
       "model_id": "1adba5028f694ed0bb74a8224dd3fce0",
       "version_major": 2,
       "version_minor": 0
      },
      "text/plain": [
       "  0%|          | 0/13 [00:00<?, ?it/s]"
      ]
     },
     "metadata": {},
     "output_type": "display_data"
    },
    {
     "name": "stdout",
     "output_type": "stream",
     "text": [
      "Mean: tensor([0.9348, 0.9227, 0.8904])\n",
      "Standard deviation: tensor([0.0015, 0.0019, 0.0058])\n"
     ]
    }
   ],
   "source": [
    "def get_mean_std(loader):\n",
    "    channel_sum, channel_squared_sum, num_batches = 0,0,0\n",
    "    for data, _ in tqdm(loader):\n",
    "        channel_sum += torch.mean(data, dim=[0, 2, 3])\n",
    "        channel_squared_sum += torch.mean(data**2, dim=[0,2,3])\n",
    "        num_batches += 1\n",
    "    # Compute the mean from the channels_sum and num_batches\n",
    "    mean = channel_sum/num_batches\n",
    "     # Compute the standard deviation form channels_squared_sum, num_batches,\n",
    "    # and the mean\n",
    "    std = (channel_squared_sum/num_batches - mean** 2) ** 2\n",
    "    return mean, std\n",
    "\n",
    "mean, std = get_mean_std(dataset_loader)\n",
    "\n",
    "print(f\"Mean: {mean}\")\n",
    "print(f\"Standard deviation: {std}\")"
   ]
  },
  {
   "cell_type": "markdown",
   "id": "9c3b052a-b264-4157-b9f9-c9606b0e90eb",
   "metadata": {},
   "source": [
    "# Build a new transformer pipeline that normalizes the channels according to the mean and standard deviation above."
   ]
  },
  {
   "cell_type": "code",
   "execution_count": 12,
   "id": "ebbbc746-9d58-4178-94b5-8fe32c61b11c",
   "metadata": {},
   "outputs": [
    {
     "name": "stdout",
     "output_type": "stream",
     "text": [
      "Compose(\n",
      "    <__main__.convertToRGB object at 0x0000020DC7EDAD50>\n",
      "    Resize(size=(200, 200), interpolation=bilinear, max_size=None, antialias=True)\n",
      "    ToTensor()\n",
      "    Normalize(mean=tensor([0.9348, 0.9227, 0.8904]), std=tensor([0.0015, 0.0019, 0.0058]))\n",
      ")\n"
     ]
    }
   ],
   "source": [
    "transform_norm = transforms.Compose([\n",
    "    convertToRGB(),\n",
    "    transforms.Resize((200, 200)),\n",
    "    transforms.ToTensor(),\n",
    "    transforms.Normalize(mean = mean, std = std)\n",
    "])\n",
    "\n",
    "print(transform_norm)\n",
    "\n",
    "\n"
   ]
  },
  {
   "cell_type": "markdown",
   "id": "d3ac5fc1-918a-46e9-a2ef-495c7b14221a",
   "metadata": {},
   "source": [
    "# Make a new normalized dataset using ImageFolder and a new DataLoader"
   ]
  },
  {
   "cell_type": "code",
   "execution_count": 13,
   "id": "5653b161-ebb6-4bde-9281-caa06f8cb96f",
   "metadata": {},
   "outputs": [],
   "source": [
    "norm_dataset = datasets.ImageFolder(root = train_dir, transform = transform_norm)\n",
    "norm_loader = DataLoader(dataset = norm_dataset, batch_size = 32)"
   ]
  },
  {
   "cell_type": "markdown",
   "id": "7a0a934b-3e3a-4818-8a70-82e285da1181",
   "metadata": {},
   "source": [
    "# Train and validation splitting"
   ]
  },
  {
   "cell_type": "markdown",
   "id": "593da41f-52f0-4c44-8bb4-78f96c3431f3",
   "metadata": {},
   "source": [
    "Use random_split to create a training dataset with 80% of the data, and a validation dataset with 20% of the data. Remember to use the normalized data"
   ]
  },
  {
   "cell_type": "code",
   "execution_count": 14,
   "id": "efc8928b-74de-4c6b-9729-496d4988a0b1",
   "metadata": {},
   "outputs": [
    {
     "name": "stdout",
     "output_type": "stream",
     "text": [
      "Training data set size: 317\n",
      "Test data set size: 79\n",
      "the size of train dataset is 80.05%, of full data\n",
      "the size of test dataset is 19.95%, of full data\n"
     ]
    }
   ],
   "source": [
    "g = torch.Generator()\n",
    "g.manual_seed(42)\n",
    "\n",
    "train_dataset, test_dataset = random_split(norm_dataset, [0.8, 0.2])\n",
    "length_train = len(train_dataset)\n",
    "length_test = len(test_dataset)\n",
    "length_dataset= len(norm_dataset)\n",
    "\n",
    "percent_train = np.round(100 * length_train/length_dataset, 2)\n",
    "percent_test = np.round(100 * length_test/length_dataset, 2)\n",
    "\n",
    "print(\"Training data set size:\", len(train_dataset))\n",
    "print(\"Test data set size:\", len(test_dataset))\n",
    "\n",
    "print(f'the size of train dataset is {percent_train}%, of full data')\n",
    "print(f'the size of test dataset is {percent_test}%, of full data')"
   ]
  },
  {
   "cell_type": "markdown",
   "id": "d0384486-5d11-428e-ba15-086afaca9c03",
   "metadata": {},
   "source": [
    "# Visualize the data with Barchart\n"
   ]
  },
  {
   "cell_type": "code",
   "execution_count": 15,
   "id": "f6d14cbb-8fa0-4fd8-9e67-a9999e689782",
   "metadata": {},
   "outputs": [],
   "source": [
    "def class_counts(dataset_subset):\n",
    "    c = Counter(x[1] for x in tqdm(dataset_subset))\n",
    "    class_to_index = dataset_subset.dataset.class_to_idx\n",
    "    return pd.Series({class_name: c[idx] for class_name, idx in class_to_index.items()})"
   ]
  },
  {
   "cell_type": "code",
   "execution_count": 16,
   "id": "691ecf92-b1c5-4578-a54f-814ca82917ad",
   "metadata": {},
   "outputs": [
    {
     "data": {
      "application/vnd.jupyter.widget-view+json": {
       "model_id": "389d2506fdf941d3abcb818effb98f99",
       "version_major": 2,
       "version_minor": 0
      },
      "text/plain": [
       "  0%|          | 0/317 [00:00<?, ?it/s]"
      ]
     },
     "metadata": {},
     "output_type": "display_data"
    },
    {
     "data": {
      "text/plain": [
       "elephant    83\n",
       "giraffe     80\n",
       "lion        76\n",
       "zebra       78\n",
       "dtype: int64"
      ]
     },
     "execution_count": 16,
     "metadata": {},
     "output_type": "execute_result"
    }
   ],
   "source": [
    "train_class_distributions = class_counts(train_dataset)\n",
    "\n",
    "train_class_distributions"
   ]
  },
  {
   "cell_type": "markdown",
   "id": "554c2fe3-a3d3-45cd-aefc-717695e9eaac",
   "metadata": {},
   "source": [
    "# Create a bar plot from these counts."
   ]
  },
  {
   "cell_type": "code",
   "execution_count": 17,
   "id": "930e92ef-754f-4a74-9bcd-2503195ccfaf",
   "metadata": {},
   "outputs": [
    {
     "data": {
      "image/png": "[encoded data removed]",
      "text/plain": [
       "<Figure size 640x480 with 1 Axes>"
      ]
     },
     "metadata": {},
     "output_type": "display_data"
    }
   ],
   "source": [
    "train_class_distributions.sort_values().plot(kind = \"bar\")\n",
    "\n",
    "# Add axis labels and title\n",
    "plt.xlabel(\"Class Label\")\n",
    "plt.ylabel(\"Frequency [count]\")\n",
    "plt.title(\"Class Distribution in Training Set\");"
   ]
  },
  {
   "cell_type": "code",
   "execution_count": 18,
   "id": "e728ade2-8e85-44f8-be58-98ffd677f842",
   "metadata": {},
   "outputs": [
    {
     "data": {
      "application/vnd.jupyter.widget-view+json": {
       "model_id": "efed913572f840f48837e66f461faa99",
       "version_major": 2,
       "version_minor": 0
      },
      "text/plain": [
       "  0%|          | 0/79 [00:00<?, ?it/s]"
      ]
     },
     "metadata": {},
     "output_type": "display_data"
    },
    {
     "data": {
      "image/png": "[encoded data removed]",
      "text/plain": [
       "<Figure size 640x480 with 1 Axes>"
      ]
     },
     "metadata": {},
     "output_type": "display_data"
    }
   ],
   "source": [
    "# Get the class distribution\n",
    "test_class_distributions = class_counts(test_dataset)\n",
    "\n",
    "# Create a bar plot from train_class_distribution\n",
    "test_class_distributions.sort_values().plot(kind=\"bar\")\n",
    "\n",
    "# Add axis labels and title\n",
    "plt.xlabel(\"Class Label\")\n",
    "plt.ylabel(\"Frequency [count]\")\n",
    "plt.title(\"Class Distribution in test Set\");"
   ]
  },
  {
   "cell_type": "markdown",
   "id": "b3a23cf6-9602-4cbd-8422-750f786d8603",
   "metadata": {},
   "source": [
    "# Create data loaders for the train and validation sets. Use a batch size of 32\n",
    " "
   ]
  },
  {
   "cell_type": "code",
   "execution_count": 19,
   "id": "4be6116a-ec09-416e-af35-b85df8c4e911",
   "metadata": {},
   "outputs": [
    {
     "name": "stdout",
     "output_type": "stream",
     "text": [
      "Shape of one batch: torch.Size([32, 3, 200, 200])\n"
     ]
    }
   ],
   "source": [
    "g = torch.Generator()\n",
    "g.manual_seed(42)\n",
    "\n",
    "batch_size= 32\n",
    "\n",
    "train_loader = DataLoader(train_dataset, batch_size = batch_size, shuffle=True)\n",
    "test_loader = DataLoader(test_dataset, batch_size = batch_size)\n",
    "\n",
    "single_batch = next(iter(train_loader))[0]\n",
    "print(f\"Shape of one batch: {single_batch.shape}\")"
   ]
  },
  {
   "cell_type": "markdown",
   "id": "4bd2ae0c-a941-430e-b036-5dfdaf520f9e",
   "metadata": {},
   "source": [
    "# Build the Model"
   ]
  },
  {
   "cell_type": "code",
   "execution_count": 20,
   "id": "f2830c59-5304-4241-9165-e9c79ba378d0",
   "metadata": {},
   "outputs": [
    {
     "data": {
      "text/plain": [
       "Sequential(\n",
       "  (0): Conv2d(3, 12, kernel_size=(3, 3), stride=(1, 1), padding=(1, 1))\n",
       "  (1): ReLU()\n",
       "  (2): MaxPool2d(kernel_size=(2, 2), stride=(2, 2), padding=0, dilation=1, ceil_mode=False)\n",
       "  (3): Conv2d(12, 12, kernel_size=(3, 3), stride=(1, 1), padding=(1, 1))\n",
       "  (4): ReLU()\n",
       "  (5): MaxPool2d(kernel_size=(2, 2), stride=(2, 2), padding=0, dilation=1, ceil_mode=False)\n",
       "  (6): Conv2d(12, 24, kernel_size=(3, 3), stride=(1, 1), padding=(1, 1))\n",
       "  (7): ReLU()\n",
       "  (8): Dropout2d(p=0.2, inplace=False)\n",
       "  (9): Flatten(start_dim=1, end_dim=-1)\n",
       "  (10): Dropout(p=0.5, inplace=False)\n",
       "  (11): Linear(in_features=60000, out_features=4, bias=True)\n",
       ")"
      ]
     },
     "execution_count": 20,
     "metadata": {},
     "output_type": "execute_result"
    }
   ],
   "source": [
    "import torch\n",
    "import torch.nn as nn\n",
    "\n",
    "model = torch.nn.Sequential()\n",
    "\n",
    "# First Convolutional Block\n",
    "conv1 = torch.nn.Conv2d(in_channels=3, out_channels=12, kernel_size=(3, 3), stride=1, padding=1)\n",
    "max_pool1 = torch.nn.MaxPool2d(kernel_size=(2, 2))  # This reduces 200x200 → 100x100\n",
    "model.append(conv1)\n",
    "model.append(torch.nn.ReLU())\n",
    "model.append(max_pool1)\n",
    "\n",
    "# Second Convolutional Block\n",
    "conv2 = torch.nn.Conv2d(in_channels=12, out_channels=12, kernel_size=(3, 3), stride=1, padding=1)\n",
    "max_pool2 = torch.nn.MaxPool2d(kernel_size=(2, 2))  # 100x100 → 50x50\n",
    "model.append(conv2)\n",
    "model.append(torch.nn.ReLU())\n",
    "model.append(max_pool2)\n",
    "\n",
    "# Third Convolutional Block with Dropout2d\n",
    "conv3 = torch.nn.Conv2d(in_channels=12, out_channels=24, kernel_size=(3, 3), stride=1, padding=1)\n",
    "model.append(conv3)\n",
    "model.append(torch.nn.ReLU())\n",
    "model.append(torch.nn.Dropout2d(p=0.2))  # Applies dropout per channel\n",
    "\n",
    "# Flatten and Fully Connected Layers\n",
    "model.append(torch.nn.Flatten())\n",
    "model.append(torch.nn.Dropout(p=0.5))  # Additional dropout before FC layer\n",
    "\n",
    "# 24 channels × 50 × 50 from final conv output\n",
    "linear1 = torch.nn.Linear(in_features=24 * 50 * 50, out_features=4)\n",
    "model.append(linear1)\n"
   ]
  },
  {
   "cell_type": "code",
   "execution_count": 21,
   "id": "507455cd-29b9-4712-8b6a-86e06f01067d",
   "metadata": {},
   "outputs": [
    {
     "data": {
      "text/plain": [
       "==========================================================================================\n",
       "Layer (type:depth-idx)                   Output Shape              Param #\n",
       "==========================================================================================\n",
       "Sequential                               [32, 4]                   --\n",
       "├─Conv2d: 1-1                            [32, 12, 200, 200]        336\n",
       "├─ReLU: 1-2                              [32, 12, 200, 200]        --\n",
       "├─MaxPool2d: 1-3                         [32, 12, 100, 100]        --\n",
       "├─Conv2d: 1-4                            [32, 12, 100, 100]        1,308\n",
       "├─ReLU: 1-5                              [32, 12, 100, 100]        --\n",
       "├─MaxPool2d: 1-6                         [32, 12, 50, 50]          --\n",
       "├─Conv2d: 1-7                            [32, 24, 50, 50]          2,616\n",
       "├─ReLU: 1-8                              [32, 24, 50, 50]          --\n",
       "├─Dropout2d: 1-9                         [32, 24, 50, 50]          --\n",
       "├─Flatten: 1-10                          [32, 60000]               --\n",
       "├─Dropout: 1-11                          [32, 60000]               --\n",
       "├─Linear: 1-12                           [32, 4]                   240,004\n",
       "==========================================================================================\n",
       "Total params: 244,264\n",
       "Trainable params: 244,264\n",
       "Non-trainable params: 0\n",
       "Total mult-adds (Units.GIGABYTES): 1.07\n",
       "==========================================================================================\n",
       "Input size (MB): 15.36\n",
       "Forward/backward pass size (MB): 168.96\n",
       "Params size (MB): 0.98\n",
       "Estimated Total Size (MB): 185.30\n",
       "=========================================================================================="
      ]
     },
     "execution_count": 21,
     "metadata": {},
     "output_type": "execute_result"
    }
   ],
   "source": [
    "height, width = 200, 200\n",
    "summary(model, input_size=(batch_size, 3, height, width))"
   ]
  },
  {
   "cell_type": "code",
   "execution_count": 22,
   "id": "3029822a-ea9e-42ef-b06e-0ed9cd6796dc",
   "metadata": {},
   "outputs": [],
   "source": [
    "from training import predict, train"
   ]
  },
  {
   "cell_type": "code",
   "execution_count": 23,
   "id": "12b052bf-7f4e-4786-8373-905be0412596",
   "metadata": {},
   "outputs": [
    {
     "data": {
      "text/plain": [
       "Sequential(\n",
       "  (0): Conv2d(3, 12, kernel_size=(3, 3), stride=(1, 1), padding=(1, 1))\n",
       "  (1): ReLU()\n",
       "  (2): MaxPool2d(kernel_size=(2, 2), stride=(2, 2), padding=0, dilation=1, ceil_mode=False)\n",
       "  (3): Conv2d(12, 12, kernel_size=(3, 3), stride=(1, 1), padding=(1, 1))\n",
       "  (4): ReLU()\n",
       "  (5): MaxPool2d(kernel_size=(2, 2), stride=(2, 2), padding=0, dilation=1, ceil_mode=False)\n",
       "  (6): Conv2d(12, 24, kernel_size=(3, 3), stride=(1, 1), padding=(1, 1))\n",
       "  (7): ReLU()\n",
       "  (8): Dropout2d(p=0.2, inplace=False)\n",
       "  (9): Flatten(start_dim=1, end_dim=-1)\n",
       "  (10): Dropout(p=0.5, inplace=False)\n",
       "  (11): Linear(in_features=60000, out_features=4, bias=True)\n",
       ")"
      ]
     },
     "execution_count": 23,
     "metadata": {},
     "output_type": "execute_result"
    }
   ],
   "source": [
    "loss_fn = nn.CrossEntropyLoss()\n",
    "optimizer = optim.Adam(model.parameters(), lr=0.001)\n",
    "model.to(device)"
   ]
  },
  {
   "cell_type": "markdown",
   "id": "2d273b8a-aa46-4d1d-b2c2-cd7c677c5b28",
   "metadata": {},
   "source": [
    "# Train model for 8 epochs"
   ]
  },
  {
   "cell_type": "code",
   "execution_count": 24,
   "id": "aa039e80-6d54-4fbe-a0a7-70d9e7cfd4bc",
   "metadata": {},
   "outputs": [
    {
     "data": {
      "application/vnd.jupyter.widget-view+json": {
       "model_id": "70cecb9b5e674f3cb015ce0cb323f38a",
       "version_major": 2,
       "version_minor": 0
      },
      "text/plain": [
       "Training:   0%|          | 0/10 [00:00<?, ?it/s]"
      ]
     },
     "metadata": {},
     "output_type": "display_data"
    },
    {
     "data": {
      "application/vnd.jupyter.widget-view+json": {
       "model_id": "a5d7c851a3c748958dc14e6cf6a9c7f2",
       "version_major": 2,
       "version_minor": 0
      },
      "text/plain": [
       "Scoring:   0%|          | 0/3 [00:00<?, ?it/s]"
      ]
     },
     "metadata": {},
     "output_type": "display_data"
    },
    {
     "name": "stdout",
     "output_type": "stream",
     "text": [
      "Epoch: 1, Training Loss: 8.09, Validation Loss: 0.27, Validation accuracy = 0.91\n"
     ]
    },
    {
     "data": {
      "application/vnd.jupyter.widget-view+json": {
       "model_id": "2f404695541049d5acdc447df763c424",
       "version_major": 2,
       "version_minor": 0
      },
      "text/plain": [
       "Training:   0%|          | 0/10 [00:00<?, ?it/s]"
      ]
     },
     "metadata": {},
     "output_type": "display_data"
    },
    {
     "data": {
      "application/vnd.jupyter.widget-view+json": {
       "model_id": "48b706a853a84149ba81bde3a2463160",
       "version_major": 2,
       "version_minor": 0
      },
      "text/plain": [
       "Scoring:   0%|          | 0/3 [00:00<?, ?it/s]"
      ]
     },
     "metadata": {},
     "output_type": "display_data"
    },
    {
     "name": "stdout",
     "output_type": "stream",
     "text": [
      "Epoch: 2, Training Loss: 0.09, Validation Loss: 0.00, Validation accuracy = 1.00\n"
     ]
    },
    {
     "data": {
      "application/vnd.jupyter.widget-view+json": {
       "model_id": "ea15a572936a449899bbdec6d905a42d",
       "version_major": 2,
       "version_minor": 0
      },
      "text/plain": [
       "Training:   0%|          | 0/10 [00:00<?, ?it/s]"
      ]
     },
     "metadata": {},
     "output_type": "display_data"
    },
    {
     "data": {
      "application/vnd.jupyter.widget-view+json": {
       "model_id": "bb573208c0b640e697967a1fa2a30b08",
       "version_major": 2,
       "version_minor": 0
      },
      "text/plain": [
       "Scoring:   0%|          | 0/3 [00:00<?, ?it/s]"
      ]
     },
     "metadata": {},
     "output_type": "display_data"
    },
    {
     "name": "stdout",
     "output_type": "stream",
     "text": [
      "Epoch: 3, Training Loss: 0.02, Validation Loss: 0.00, Validation accuracy = 1.00\n"
     ]
    },
    {
     "data": {
      "application/vnd.jupyter.widget-view+json": {
       "model_id": "2f2a7f37aa59400c92032d3353bcb105",
       "version_major": 2,
       "version_minor": 0
      },
      "text/plain": [
       "Training:   0%|          | 0/10 [00:00<?, ?it/s]"
      ]
     },
     "metadata": {},
     "output_type": "display_data"
    },
    {
     "data": {
      "application/vnd.jupyter.widget-view+json": {
       "model_id": "8a491c791b844828a1d4b1d00b898ca4",
       "version_major": 2,
       "version_minor": 0
      },
      "text/plain": [
       "Scoring:   0%|          | 0/3 [00:00<?, ?it/s]"
      ]
     },
     "metadata": {},
     "output_type": "display_data"
    },
    {
     "name": "stdout",
     "output_type": "stream",
     "text": [
      "Epoch: 4, Training Loss: 0.00, Validation Loss: 0.00, Validation accuracy = 1.00\n"
     ]
    },
    {
     "data": {
      "application/vnd.jupyter.widget-view+json": {
       "model_id": "11a2fc7aab8f462a9eec9ff0f664ac8d",
       "version_major": 2,
       "version_minor": 0
      },
      "text/plain": [
       "Training:   0%|          | 0/10 [00:00<?, ?it/s]"
      ]
     },
     "metadata": {},
     "output_type": "display_data"
    },
    {
     "data": {
      "application/vnd.jupyter.widget-view+json": {
       "model_id": "bcc1d6221aaf4d39bde70cf82da9f648",
       "version_major": 2,
       "version_minor": 0
      },
      "text/plain": [
       "Scoring:   0%|          | 0/3 [00:00<?, ?it/s]"
      ]
     },
     "metadata": {},
     "output_type": "display_data"
    },
    {
     "name": "stdout",
     "output_type": "stream",
     "text": [
      "Epoch: 5, Training Loss: 0.01, Validation Loss: 0.00, Validation accuracy = 1.00\n"
     ]
    },
    {
     "data": {
      "application/vnd.jupyter.widget-view+json": {
       "model_id": "a27352f9515b473a870407ccfe53c05b",
       "version_major": 2,
       "version_minor": 0
      },
      "text/plain": [
       "Training:   0%|          | 0/10 [00:00<?, ?it/s]"
      ]
     },
     "metadata": {},
     "output_type": "display_data"
    },
    {
     "data": {
      "application/vnd.jupyter.widget-view+json": {
       "model_id": "66a8c526006446718303b5b49c6b8f22",
       "version_major": 2,
       "version_minor": 0
      },
      "text/plain": [
       "Scoring:   0%|          | 0/3 [00:00<?, ?it/s]"
      ]
     },
     "metadata": {},
     "output_type": "display_data"
    },
    {
     "name": "stdout",
     "output_type": "stream",
     "text": [
      "Epoch: 6, Training Loss: 0.00, Validation Loss: 0.00, Validation accuracy = 1.00\n"
     ]
    },
    {
     "data": {
      "application/vnd.jupyter.widget-view+json": {
       "model_id": "c03b82085d624297a925997a51d1eefc",
       "version_major": 2,
       "version_minor": 0
      },
      "text/plain": [
       "Training:   0%|          | 0/10 [00:00<?, ?it/s]"
      ]
     },
     "metadata": {},
     "output_type": "display_data"
    },
    {
     "data": {
      "application/vnd.jupyter.widget-view+json": {
       "model_id": "673d41dcb45d4fc583cae4800ae97174",
       "version_major": 2,
       "version_minor": 0
      },
      "text/plain": [
       "Scoring:   0%|          | 0/3 [00:00<?, ?it/s]"
      ]
     },
     "metadata": {},
     "output_type": "display_data"
    },
    {
     "name": "stdout",
     "output_type": "stream",
     "text": [
      "Epoch: 7, Training Loss: 0.00, Validation Loss: 0.00, Validation accuracy = 1.00\n"
     ]
    },
    {
     "data": {
      "application/vnd.jupyter.widget-view+json": {
       "model_id": "f0c586b1a84a4a5abfbb97ac8e530ef8",
       "version_major": 2,
       "version_minor": 0
      },
      "text/plain": [
       "Training:   0%|          | 0/10 [00:00<?, ?it/s]"
      ]
     },
     "metadata": {},
     "output_type": "display_data"
    },
    {
     "data": {
      "application/vnd.jupyter.widget-view+json": {
       "model_id": "05737d26045041b489637fb023b8097b",
       "version_major": 2,
       "version_minor": 0
      },
      "text/plain": [
       "Scoring:   0%|          | 0/3 [00:00<?, ?it/s]"
      ]
     },
     "metadata": {},
     "output_type": "display_data"
    },
    {
     "name": "stdout",
     "output_type": "stream",
     "text": [
      "Epoch: 8, Training Loss: 0.00, Validation Loss: 0.00, Validation accuracy = 1.00\n"
     ]
    }
   ],
   "source": [
    "train(model, optimizer, loss_fn, train_loader, test_loader, epochs =8, device=device)"
   ]
  },
  {
   "cell_type": "code",
   "execution_count": 25,
   "id": "c4032b5f-f323-45f7-90fc-138dda6ed22b",
   "metadata": {},
   "outputs": [],
   "source": [
    "# # Save the model weights\n",
    "# model_file = 'animal_classifier.pt'\n",
    "# torch.save(model.state_dict(), model_file)\n",
    "# del model\n",
    "# print('model saved as', model_file)"
   ]
  },
  {
   "cell_type": "code",
   "execution_count": 26,
   "id": "44e2c871-42bb-42ae-ae26-89290ad96e2e",
   "metadata": {},
   "outputs": [],
   "source": [
    "torch.save(model, \"model/animal_classifier.pth\")"
   ]
  },
  {
   "cell_type": "code",
   "execution_count": 27,
   "id": "464fa29f-c331-4489-b0b7-dc1bc9a356d3",
   "metadata": {},
   "outputs": [],
   "source": [
    "model = torch.load(\"model/animal_classifier.pth\", weights_only=False)"
   ]
  },
  {
   "cell_type": "code",
   "execution_count": null,
   "id": "c1651725-eed5-4bfd-b661-c2a2ba2091ee",
   "metadata": {},
   "outputs": [],
   "source": []
  }
 ],
 "metadata": {
  "kernelspec": {
   "display_name": "Python 3 (ipykernel)",
   "language": "python",
   "name": "python3"
  },
  "language_info": {
   "codemirror_mode": {
    "name": "ipython",
    "version": 3
   },
   "file_extension": ".py",
   "mimetype": "text/x-python",
   "name": "python",
   "nbconvert_exporter": "python",
   "pygments_lexer": "ipython3",
   "version": "3.13.2"
  }
 },
 "nbformat": 4,
 "nbformat_minor": 5
}
